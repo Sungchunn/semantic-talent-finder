{
 "cells": [
  {
   "cell_type": "code",
   "execution_count": null,
   "id": "a1ade48b",
   "metadata": {},
   "outputs": [],
   "source": [
    "\n",
    "'/Users/chromatrical/CAREER/Local Linkedin DB/DataBase/USA_filtered.parquet' "
   ]
  }
 ],
 "metadata": {
  "language_info": {
   "name": "python"
  }
 },
 "nbformat": 4,
 "nbformat_minor": 5
}
